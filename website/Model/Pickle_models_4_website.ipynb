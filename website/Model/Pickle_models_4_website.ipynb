{
 "cells": [
  {
   "cell_type": "code",
   "execution_count": 5,
   "metadata": {},
   "outputs": [
    {
     "name": "stdout",
     "output_type": "stream",
     "text": [
      "Reccomend.py       \u001b[34m__pycache__\u001b[m\u001b[m/       \u001b[34mold_src\u001b[m\u001b[m/           unpickle.py\r\n",
      "TrainModels.py     game.py            train_category.py\r\n"
     ]
    }
   ],
   "source": [
    "%ls"
   ]
  },
  {
   "cell_type": "code",
   "execution_count": 1,
   "metadata": {},
   "outputs": [
    {
     "name": "stdout",
     "output_type": "stream",
     "text": [
      "(153656, 300)\n"
     ]
    }
   ],
   "source": [
    "from importlib import reload \n",
    "import src.final_pipeline as f\n",
    "import src.make_user_percentile_profile as m\n",
    "from src import TrainModels\n",
    "import pickle\n",
    "from src import unpickle\n",
    "reload(m)\n",
    "reload(f)\n",
    "\n",
    "#Load the intial data\n",
    "long_key, questions, grading_Key,graded_df, meta = f.load_Graded_data()\n",
    "\n",
    "# Load the dictionarys\n",
    "keys2trait, Trait_dict_keys = f.create_k2t(long_key)"
   ]
  },
  {
   "cell_type": "code",
   "execution_count": 2,
   "metadata": {},
   "outputs": [],
   "source": [
    "male_questions = questions.loc[meta[meta['sex'] == '2'].number,:]\n"
   ]
  },
  {
   "cell_type": "code",
   "execution_count": null,
   "metadata": {},
   "outputs": [],
   "source": []
  },
  {
   "cell_type": "code",
   "execution_count": 5,
   "metadata": {},
   "outputs": [
    {
     "name": "stdout",
     "output_type": "stream",
     "text": [
      "Openness\n",
      "Conscientiousness\n",
      "Extraversion\n",
      "Agreeableness\n",
      "Neuroticism\n",
      "--------------------------------------------------\n",
      "time =  0.5364899635314941\n",
      "\n",
      "\n",
      "\n"
     ]
    }
   ],
   "source": [
    "# Train the Model\n",
    "Trait_dict_questions = f.nested_dict(Trait_dict_keys,long_key)\n",
    "\n",
    "percentile_df, traits_df = m.make_user_profiles(long_key,male_questions, grading_Key, keys2trait, Trait_dict_keys, Trait_dict_questions)\n",
    "\n",
    "\n"
   ]
  },
  {
   "cell_type": "code",
   "execution_count": 6,
   "metadata": {},
   "outputs": [
    {
     "name": "stdout",
     "output_type": "stream",
     "text": [
      "\n",
      "\n",
      "Training Models!\n",
      "5\n",
      "\n",
      "Model:  Openness\n",
      "\n",
      "Done Training Model 1\n",
      "--Remaining:  4 --\n",
      "Mean abs error: 14.49% \n",
      " --------------------------------------------------\n",
      "\n",
      "Model:  Conscientiousness\n",
      "\n",
      "Done Training Model 2\n",
      "--Remaining:  3 --\n",
      "Mean abs error: 13.1% \n",
      " --------------------------------------------------\n",
      "\n",
      "Model:  Extraversion\n",
      "\n",
      "Done Training Model 3\n",
      "--Remaining:  2 --\n",
      "Mean abs error: 12.69% \n",
      " --------------------------------------------------\n",
      "\n",
      "Model:  Agreeableness\n",
      "\n",
      "Done Training Model 4\n",
      "--Remaining:  1 --\n",
      "Mean abs error: 15.03% \n",
      " --------------------------------------------------\n",
      "\n",
      "Model:  Neuroticism\n",
      "\n",
      "Done Training Model 5\n",
      "--Remaining:  0 --\n",
      "Mean abs error: 12.43% \n",
      " --------------------------------------------------\n",
      "\n",
      "Models are trained!\n"
     ]
    }
   ],
   "source": [
    "print('\\n\\nTraining Models!')\n",
    "Traits,models = TrainModels.Train_models(traits_df,male_questions,4)\n",
    "print('\\nModels are trained!')\n",
    "\n",
    "file_path = 'data/4QUestionModelFemale'\n",
    "with open(file_path, 'wb') as handle:\n",
    "        pickle.dump(models, handle, protocol=pickle.HIGHEST_PROTOCOL)\n",
    "        pickle.dump(Traits, handle, protocol=pickle.HIGHEST_PROTOCOL)\n",
    "        handle.close()"
   ]
  },
  {
   "cell_type": "code",
   "execution_count": 5,
   "metadata": {},
   "outputs": [],
   "source": [
    "file_path = 'data/6QUestionModel'\n",
    "import pickle\n",
    "from src import unpickle\n",
    "\n",
    "with open(file_path, 'rb') as handle:\n",
    "    models = pickle.load(handle)\n",
    "    Traits = pickle.load(handle)\n",
    "long_key, questions, grading_Key,\\\n",
    "keys2trait, Trait_dict_keys, Trait_dict_questions,\\\n",
    "graded_df, percentile_df, traits_df= unpickle.Load_pickled_files()"
   ]
  },
  {
   "cell_type": "code",
   "execution_count": 9,
   "metadata": {},
   "outputs": [
    {
     "name": "stdout",
     "output_type": "stream",
     "text": [
      "Openness\n",
      "Hello, welcome to the quiz game!  Answer the following questions\n",
      "        to better understand where you fall in the personality thing \n",
      "\n",
      "For each statement, rank the statement based on 1-5 scale\n",
      "        \n",
      "\n",
      " 1 = Very Innacurate and 5 = Very accurate\n",
      "\n",
      "\n",
      "-------------------------------------------------- \n",
      "\n",
      "\n",
      "Do not like art. 2\n",
      "Have difficulty imagining things. 1\n",
      "Love to read challenging material. 2\n",
      "Believe in the importance of art. 1\n",
      "Experience my emotions intensely. 2\n",
      "Don't like the idea of change. 1\n",
      "\n",
      "RMSE =  16.12 \n",
      "\n",
      "\n",
      "You fall in the 24.129% percentile of this trait which correponds to node: 38\n",
      "\n",
      "\n",
      "\n",
      "Conscientiousness\n",
      "next trait:  Conscientiousness\n",
      "Have difficulty starting tasks. 2\n",
      "Put little time and effort into my work. 2\n",
      "Carry out my plans. 1\n",
      "Leave a mess in my room. 2\n",
      "Handle tasks smoothly. 1\n",
      "Work hard. 2\n",
      "\n",
      "RMSE =  15.23 \n",
      "\n",
      "\n",
      "You fall in the 29.45% percentile of this trait which correponds to node: 76\n",
      "\n",
      "\n",
      "\n",
      "Extraversion\n",
      "next trait:  Extraversion\n",
      "Talk to a lot of different people at parties. 1\n",
      "Keep in the background. 2\n",
      "Feel comfortable around people. 21\n",
      "Answer needs to be an integer between 1 & 5\n",
      "Feel comfortable around people. 2\n",
      "Love action. 1\n",
      "Prefer to be alone. 2\n",
      "Try to lead others. 1\n",
      "\n",
      "RMSE =  12.72 \n",
      "\n",
      "\n",
      "You fall in the 25.816% percentile of this trait which correponds to node: 40\n",
      "\n",
      "\n",
      "\n",
      "Agreeableness\n",
      "next trait:  Agreeableness\n",
      "Take advantage of others. 2\n",
      "Insult people. 1\n",
      "Believe that others have good intentions. 2\n",
      "Believe that I am better than others. 1\n",
      "Get back at others. 2\n",
      "Trust what people say. 1\n",
      "\n",
      "RMSE =  18.0 \n",
      "\n",
      "\n",
      "You fall in the 40.128% percentile of this trait which correponds to node: 47\n",
      "\n",
      "\n",
      "\n",
      "Neuroticism\n",
      "next trait:  Neuroticism\n",
      "Am often down in the dumps. 2\n",
      "Get stressed out easily. 1\n",
      "Have a low opinion of myself. 1\n",
      "Get irritated easily. 3\n",
      "Get caught up in my problems. 3\n",
      "Have frequent mood swings. 2\n",
      "\n",
      "RMSE =  13.05 \n",
      "\n",
      "\n",
      "You fall in the 21.735% percentile of this trait which correponds to node: 14\n",
      "\n",
      "\n",
      "\n"
     ]
    }
   ],
   "source": [
    "import src.game as g\n",
    "quiz = g.Quiz()\n",
    "for i,model in enumerate(models):\n",
    "    tree = model.tree_\n",
    "    \n",
    "    print(Traits[i])\n",
    "\n",
    "    if i == 0:\n",
    "        df,idk = quiz.play_game(model,long_key,questions,Traits[i])\n",
    "    else:\n",
    "        df,idk = quiz.play_game(model,long_key,questions,Traits[i],(True,df))\n",
    "    #print(Traits[i])\n",
    "    print('\\n\\n')"
   ]
  },
  {
   "cell_type": "code",
   "execution_count": 27,
   "metadata": {},
   "outputs": [
    {
     "data": {
      "text/plain": [
       "[array([157, 272, 262,  67, 187, 272, 107, 187, 272, 107, 187,  32, 137,\n",
       "        137,  32, 137,  77,  52,   7,  12, 197, 197, 202,  12, 137,  12,\n",
       "        197, 187,   7, 137, 172, 142, 262, 272, 202,  52, 197,  32, 137,\n",
       "          2,  12,  52,  12, 167, 167,  12, 167, 137, 272,  12, 167,  32,\n",
       "        182, 137, 182,  62,  12, 167,  52,  62, 137,  52, 182]),\n",
       " array([264, 144, 259, 189,   4, 129,  84, 129,   4, 289, 189,   4,  49,\n",
       "        129,   4,  49, 289, 259, 189,  49,  54, 204,  54, 204, 204, 189,\n",
       "        129, 289,   4,   4,   9,   9, 289, 144, 189, 114, 259,  64,  64,\n",
       "         49,  84, 189,  54, 164, 204,   4,  99,  24,  24,  54, 159, 144,\n",
       "        144, 159, 129, 144, 144, 189, 129,   4, 189,   9,  64]),\n",
       " array([ 36, 191, 211,  81,  61, 111,  41,  61, 246, 111,  81,  61,   6,\n",
       "        246,  61, 111, 111,  61,  81, 156, 211,  41, 246, 211,  81,  81,\n",
       "        186, 246,  41, 246,  21, 191, 246, 191,  81, 156,  41,  61,  61,\n",
       "        211,  21,  81,  61, 246,  46,  61, 186,  81, 191,  81,   1, 156,\n",
       "         11,  61, 156, 221,  81,  61,  81, 111,  61, 191, 191]),\n",
       " array([248, 228, 163, 183, 248, 123,  33, 248, 143, 123,  33, 258, 183,\n",
       "         98, 258,  78, 188,  33, 143, 183, 248, 188, 258,  63,  63, 143,\n",
       "        258,  98, 188, 258, 183, 163,  33, 228, 143, 183, 228, 228, 258,\n",
       "        183, 183, 143, 183, 103, 258, 258, 183, 213, 228, 143, 163, 198,\n",
       "        168, 258, 183,  78, 143, 258, 183, 183, 258, 183, 188]),\n",
       " array([ 70,  90, 100,  35,  90,  60, 230, 120, 130,  65, 155,  45,  65,\n",
       "        200, 120, 230, 230,  65,  40, 130, 215, 120, 250, 215, 155, 100,\n",
       "        150, 100, 230, 250, 155, 160,  90, 250,  65, 100, 215, 155, 130,\n",
       "        100,  80,  65, 120,  60, 250, 160, 230, 230, 100,  65, 250, 155,\n",
       "        130, 160, 215, 155,  65, 250, 215, 155,  70, 230, 215])]"
      ]
     },
     "execution_count": 27,
     "metadata": {},
     "output_type": "execute_result"
    }
   ],
   "source": [
    "\n",
    "lst = []\n",
    "for i,model in enumerate(models):\n",
    "    lst.append(model.tree_.feature[model.tree_.feature != -2])\n",
    "from collections import Counter\n",
    "lst"
   ]
  },
  {
   "cell_type": "code",
   "execution_count": 28,
   "metadata": {},
   "outputs": [
    {
     "data": {
      "text/plain": [
       "[(183, 13),\n",
       " (61, 12),\n",
       " (81, 11),\n",
       " (258, 11),\n",
       " (137, 9),\n",
       " (12, 8),\n",
       " (189, 8),\n",
       " (4, 8),\n",
       " (246, 7),\n",
       " (143, 7),\n",
       " (230, 7),\n",
       " (65, 7),\n",
       " (155, 7),\n",
       " (144, 6),\n",
       " (129, 6),\n",
       " (191, 6),\n",
       " (100, 6),\n",
       " (215, 6),\n",
       " (250, 6),\n",
       " (272, 5),\n",
       " (52, 5),\n",
       " (167, 5),\n",
       " (111, 5),\n",
       " (228, 5),\n",
       " (187, 4),\n",
       " (32, 4),\n",
       " (197, 4),\n",
       " (289, 4),\n",
       " (49, 4),\n",
       " (54, 4),\n",
       " (204, 4),\n",
       " (211, 4),\n",
       " (41, 4),\n",
       " (156, 4),\n",
       " (248, 4),\n",
       " (33, 4),\n",
       " (188, 4),\n",
       " (120, 4),\n",
       " (130, 4),\n",
       " (182, 3),\n",
       " (259, 3),\n",
       " (9, 3),\n",
       " (64, 3),\n",
       " (163, 3),\n",
       " (90, 3),\n",
       " (160, 3),\n",
       " (262, 2),\n",
       " (107, 2),\n",
       " (7, 2),\n",
       " (202, 2),\n",
       " (62, 2),\n",
       " (84, 2),\n",
       " (24, 2),\n",
       " (159, 2),\n",
       " (186, 2),\n",
       " (21, 2),\n",
       " (123, 2),\n",
       " (98, 2),\n",
       " (78, 2),\n",
       " (63, 2),\n",
       " (70, 2),\n",
       " (60, 2),\n",
       " (157, 1),\n",
       " (67, 1),\n",
       " (77, 1),\n",
       " (172, 1),\n",
       " (142, 1),\n",
       " (2, 1),\n",
       " (264, 1),\n",
       " (114, 1),\n",
       " (164, 1),\n",
       " (99, 1),\n",
       " (36, 1),\n",
       " (6, 1),\n",
       " (46, 1),\n",
       " (1, 1),\n",
       " (11, 1),\n",
       " (221, 1),\n",
       " (103, 1),\n",
       " (213, 1),\n",
       " (198, 1),\n",
       " (168, 1),\n",
       " (35, 1),\n",
       " (45, 1),\n",
       " (200, 1),\n",
       " (40, 1),\n",
       " (150, 1),\n",
       " (80, 1)]"
      ]
     },
     "execution_count": 28,
     "metadata": {},
     "output_type": "execute_result"
    }
   ],
   "source": [
    "import numpy as np\n",
    "Counter(np.array(lst).flatten()).most_common()"
   ]
  },
  {
   "cell_type": "markdown",
   "metadata": {},
   "source": [
    "# "
   ]
  }
 ],
 "metadata": {
  "kernelspec": {
   "display_name": "Python 3",
   "language": "python",
   "name": "python3"
  },
  "language_info": {
   "codemirror_mode": {
    "name": "ipython",
    "version": 3
   },
   "file_extension": ".py",
   "mimetype": "text/x-python",
   "name": "python",
   "nbconvert_exporter": "python",
   "pygments_lexer": "ipython3",
   "version": "3.6.5"
  }
 },
 "nbformat": 4,
 "nbformat_minor": 2
}
